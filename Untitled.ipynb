{
 "cells": [
  {
   "cell_type": "code",
   "execution_count": 59,
   "id": "1033c791-499b-44c7-a7a2-0e2032b0571a",
   "metadata": {},
   "outputs": [
    {
     "name": "stdout",
     "output_type": "stream",
     "text": [
      "{'p': 'python'} <class 'dict'>\n"
     ]
    }
   ],
   "source": [
    "d = {\"p\":\"python\",\"j\":\"lala\",\"t\":[12,13,54]}\n",
    "#    key : values    # key : number , str #  value :all data\n",
    "print(d,type(d))"
   ]
  },
  {
   "cell_type": "code",
   "execution_count": null,
   "id": "6ac170db-a899-4b6c-80c5-516576c980ee",
   "metadata": {},
   "outputs": [],
   "source": []
  }
 ],
 "metadata": {
  "kernelspec": {
   "display_name": "Python 3 (ipykernel)",
   "language": "python",
   "name": "python3"
  },
  "language_info": {
   "codemirror_mode": {
    "name": "ipython",
    "version": 3
   },
   "file_extension": ".py",
   "mimetype": "text/x-python",
   "name": "python",
   "nbconvert_exporter": "python",
   "pygments_lexer": "ipython3",
   "version": "3.12.6"
  }
 },
 "nbformat": 4,
 "nbformat_minor": 5
}
